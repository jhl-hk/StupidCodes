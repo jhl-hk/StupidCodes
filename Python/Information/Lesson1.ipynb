{
 "cells": [
  {
   "cell_type": "code",
   "execution_count": 4,
   "id": "d1f290bf-83aa-4ed4-9c22-a3e0f64e05f5",
   "metadata": {},
   "outputs": [
    {
     "name": "stdout",
     "output_type": "stream",
     "text": [
      "Hello World!\n"
     ]
    }
   ],
   "source": [
    "print(\"Hello World!\")"
   ]
  },
  {
   "cell_type": "code",
   "execution_count": 5,
   "id": "17f1d9c4-b66a-4867-b001-f911dca22e52",
   "metadata": {},
   "outputs": [
    {
     "name": "stdout",
     "output_type": "stream",
     "text": [
      "/|\n",
      "/_|\n",
      "/__|\n",
      "/___|\n"
     ]
    }
   ],
   "source": [
    "print(   \"/|\" )\n",
    "print(  \"/_|\" )\n",
    "print( \"/__|\" )\n",
    "print(\"/___|\" )"
   ]
  },
  {
   "cell_type": "code",
   "execution_count": 6,
   "id": "b6682717-7173-4f47-89ee-b901e7df9f52",
   "metadata": {},
   "outputs": [
    {
     "name": "stdout",
     "output_type": "stream",
     "text": [
      "   /| \n",
      "  /_| \n",
      " /__| \n",
      "/___| \n"
     ]
    }
   ],
   "source": [
    "print(\"   /| \")\n",
    "print(\"  /_| \")\n",
    "print(\" /__| \")\n",
    "print(\"/___| \")"
   ]
  },
  {
   "cell_type": "code",
   "id": "07a23abe-25d7-42bb-b8df-e126deb5ea48",
   "metadata": {
    "ExecuteTime": {
     "end_time": "2025-01-08T00:24:21.564244Z",
     "start_time": "2025-01-08T00:24:21.561556Z"
    }
   },
   "source": [
    "print(\"/___|\")\n",
    "print(\"   /|\")\n",
    "print(\"  / |\")\n",
    "print(\" /  |\")"
   ],
   "outputs": [
    {
     "name": "stdout",
     "output_type": "stream",
     "text": [
      "/___|\n",
      "   /|\n",
      "  / |\n",
      " /  |\n"
     ]
    }
   ],
   "execution_count": 3
  },
  {
   "metadata": {
    "ExecuteTime": {
     "end_time": "2025-01-08T00:24:21.375245Z",
     "start_time": "2025-01-08T00:24:21.368112Z"
    }
   },
   "cell_type": "code",
   "source": [
    "print(\"There once was a man named John,\")\n",
    "print(\"he was 35 years old.\")\n",
    "print(\"He really liked the name John,\")\n",
    "print(\"but he didn't like being 35.\")"
   ],
   "id": "17fb80db770ded0",
   "outputs": [
    {
     "name": "stdout",
     "output_type": "stream",
     "text": [
      "There once was a man named John,\n",
      "he was 35 years old.\n",
      "He really liked the name John,\n",
      "but he didn't like being 35.\n"
     ]
    }
   ],
   "execution_count": 2
  },
  {
   "metadata": {
    "ExecuteTime": {
     "end_time": "2025-01-08T00:28:25.507900Z",
     "start_time": "2025-01-08T00:28:25.504103Z"
    }
   },
   "cell_type": "code",
   "source": [
    "character_name = \"George\"\n",
    "\n",
    "print(f\"There once was a man named {character_name},\")\n",
    "print(\"he was 35 years old.\")\n",
    "print(f\"He really liked the name {character_name},\")\n",
    "print(\"but he didn't like being 35.\")"
   ],
   "id": "d30793b4027d9d11",
   "outputs": [
    {
     "name": "stdout",
     "output_type": "stream",
     "text": [
      "There once was a man named George,\n",
      "he was 35 years old.\n",
      "He really liked the name George,\n",
      "but he didn't like being 35.\n"
     ]
    }
   ],
   "execution_count": 1
  },
  {
   "metadata": {
    "ExecuteTime": {
     "end_time": "2025-01-08T00:33:27.553584Z",
     "start_time": "2025-01-08T00:33:27.544952Z"
    }
   },
   "cell_type": "code",
   "source": [
    "character_name = \"George\"\n",
    "character_age = 70\n",
    "\n",
    "print(f\"There once was a man named {character_name},\")\n",
    "print(f\"he was {character_age} years old.\")\n",
    "print(f\"He really liked the name {character_name},\")\n",
    "print(f\"but he didn't like being {character_age}.\")"
   ],
   "id": "aced53fa86e045b1",
   "outputs": [
    {
     "name": "stdout",
     "output_type": "stream",
     "text": [
      "There once was a man named George,\n",
      "he was 70 years old.\n",
      "He really liked the name George,\n",
      "but he didn't like being 70.\n"
     ]
    }
   ],
   "execution_count": 2
  },
  {
   "metadata": {
    "ExecuteTime": {
     "end_time": "2025-01-08T00:36:15.241560Z",
     "start_time": "2025-01-08T00:36:15.233068Z"
    }
   },
   "cell_type": "code",
   "source": [
    "character = {\n",
    "    \"name\": \"George\",\n",
    "    \"age\": 70,\n",
    "}\n",
    "\n",
    "print(f\"There once was a man named {character[\"name\"]},\")\n",
    "print(f\"he was {character[\"age\"]} years old.\")\n",
    "print(f\"He really liked the name {character[\"name\"]},\")\n",
    "print(f\"but he didn't like being {character[\"age\"]}.\")"
   ],
   "id": "2dc2a01553d775bf",
   "outputs": [
    {
     "name": "stdout",
     "output_type": "stream",
     "text": [
      "There once was a man named George,\n",
      "he was 70 years old.\n",
      "He really liked the name George,\n",
      "but he didn't like being 70.\n"
     ]
    }
   ],
   "execution_count": 6
  },
  {
   "metadata": {
    "ExecuteTime": {
     "end_time": "2025-01-08T01:03:39.703776Z",
     "start_time": "2025-01-08T01:03:39.700443Z"
    }
   },
   "cell_type": "code",
   "source": [
    "character_name = \"George\"\n",
    "character_age = 70\n",
    "\n",
    "print(f\"There once was a man named {character_name},\")\n",
    "print(f\"he was {character_age} years old.\")\n",
    "\n",
    "character_name = \"Tom\"\n",
    "\n",
    "print(f\"He really liked the name {character_name},\")\n",
    "print(f\"but he didn't like being {character_age}.\")"
   ],
   "id": "96d9376f2bf52f0a",
   "outputs": [
    {
     "name": "stdout",
     "output_type": "stream",
     "text": [
      "There once was a man named George,\n",
      "he was 70 years old.\n",
      "He really liked the name Tom,\n",
      "but he didn't like being 70.\n"
     ]
    }
   ],
   "execution_count": 11
  },
  {
   "metadata": {
    "ExecuteTime": {
     "end_time": "2025-01-08T01:03:36.801062Z",
     "start_time": "2025-01-08T01:03:36.774097Z"
    }
   },
   "cell_type": "code",
   "source": [
    "character = {\n",
    "    \"name\": \"Jianyue Hugo Liang\",\n",
    "    \"age\": 16,\n",
    "    \"grade\": \"Year 10\",\n",
    "    \"sub1\": \"Mathematics\",\n",
    "    \"sub2\": \"Physics\",\n",
    "    \"sub3\": \"Business Management\",\n",
    "    \"sub4\": \"English\",\n",
    "    \"sub5\": \"Japanese\",\n",
    "    \"sub6\": \"Chinese\",\n",
    "}\n",
    "\n",
    "print(f\"\"\"\n",
    "    There was a student in NIC who named {character[\"name\"]},\n",
    "    he is {character[\"age\"]} years old and current {character[\"grade\"]}. \n",
    "    He is going to take {character[\"sub1\"]}, {character[\"sub2\"]}, and {character[\"sub3\"]} for HLs.\n",
    "    For SLs, he is taking {character[\"sub4\"]}, {character[\"sub5\"]} and {character[\"sub6\"]}.\n",
    "\"\"\")"
   ],
   "id": "750564e0c0241dfd",
   "outputs": [
    {
     "name": "stdout",
     "output_type": "stream",
     "text": [
      "\n",
      "    There was a student in NIC who named Jianyue Hugo Liang,\n",
      "    he is 16 years old and current Year 10. \n",
      "    He is going to take Mathematics, Physics, and Business Management for HLs.\n",
      "    For SLs, he is taking English, Japanese and Chinese.\n",
      "\n"
     ]
    }
   ],
   "execution_count": 10
  },
  {
   "metadata": {},
   "cell_type": "code",
   "outputs": [],
   "execution_count": null,
   "source": [
    "character_name = \"Totaku\"\n",
    "character_age = 14\n",
    "subject_1 = \"Mathematics\"\n",
    "subject_2 = \"English\"\n",
    "\n",
    "print(f\"There once was a student named {character_name},\")\n",
    "print(f\"he was {character_age} years old.\")\n",
    "print(f\"He really liked {subject_2},\")\n",
    "print(f\"but he struggling in {subject_1}.\")"
   ],
   "id": "cb9829a7db880d56"
  }
 ],
 "metadata": {
  "kernelspec": {
   "display_name": "Python 3 (ipykernel)",
   "language": "python",
   "name": "python3"
  },
  "language_info": {
   "codemirror_mode": {
    "name": "ipython",
    "version": 3
   },
   "file_extension": ".py",
   "mimetype": "text/x-python",
   "name": "python",
   "nbconvert_exporter": "python",
   "pygments_lexer": "ipython3",
   "version": "3.12.4"
  }
 },
 "nbformat": 4,
 "nbformat_minor": 5
}
