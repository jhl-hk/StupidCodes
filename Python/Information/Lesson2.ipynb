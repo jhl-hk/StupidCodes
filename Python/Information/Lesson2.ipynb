{
 "cells": [
  {
   "cell_type": "code",
   "id": "initial_id",
   "metadata": {
    "collapsed": true,
    "ExecuteTime": {
     "end_time": "2025-02-04T23:52:49.490394Z",
     "start_time": "2025-02-04T23:52:49.485379Z"
    }
   },
   "source": [
    "from random import choice\n",
    "\n",
    "from jsonschema.benchmarks.const_vs_enum import value\n",
    "\n",
    "print(\"Python Lesson 2\")"
   ],
   "outputs": [
    {
     "name": "stdout",
     "output_type": "stream",
     "text": [
      "Python Lesson 2\n"
     ]
    }
   ],
   "execution_count": 1
  },
  {
   "metadata": {
    "ExecuteTime": {
     "end_time": "2025-02-04T23:57:02.523431Z",
     "start_time": "2025-02-04T23:57:02.477973Z"
    }
   },
   "cell_type": "code",
   "source": [
    "print(\"Python \\n Lesson 2\")\n",
    "print(\"Python \\\"Lesson\\\" 2\")\n",
    "print(\"Python \\ Lesson 2\")"
   ],
   "id": "643c8416c1e983ad",
   "outputs": [
    {
     "name": "stdout",
     "output_type": "stream",
     "text": [
      "Python \n",
      " Lesson 2\n",
      "Python \" Lesson \" 2\n"
     ]
    }
   ],
   "execution_count": 2
  },
  {
   "metadata": {
    "ExecuteTime": {
     "end_time": "2025-02-05T00:04:23.823229Z",
     "start_time": "2025-02-05T00:04:23.800049Z"
    }
   },
   "cell_type": "code",
   "source": [
    "phrase = \"Python Lesson 2\"\n",
    "print(phrase)\n",
    "print(f\"{phrase} + awesome\")"
   ],
   "id": "c2325e41f3bb89a2",
   "outputs": [
    {
     "name": "stdout",
     "output_type": "stream",
     "text": [
      "Python Lesson 2\n",
      "Python Lesson 2 + awesome\n"
     ]
    }
   ],
   "execution_count": 4
  },
  {
   "metadata": {
    "ExecuteTime": {
     "end_time": "2025-02-05T00:06:14.110693Z",
     "start_time": "2025-02-05T00:06:14.095153Z"
    }
   },
   "cell_type": "code",
   "source": [
    "phrase = \"Python Lesson 2\"\n",
    "print(phrase.lower())\n",
    "print(phrase.upper())"
   ],
   "id": "f40da66a404db3eb",
   "outputs": [
    {
     "name": "stdout",
     "output_type": "stream",
     "text": [
      "python lesson 2\n",
      "PYTHON LESSON 2\n"
     ]
    }
   ],
   "execution_count": 6
  },
  {
   "metadata": {},
   "cell_type": "code",
   "outputs": [],
   "execution_count": null,
   "source": [
    "phrase = \"Python Lesson 2\"\n",
    "print(phrase.lower().islower())\n",
    "print(phrase.upper().isupper())"
   ],
   "id": "ce41b87e1c5ec69"
  },
  {
   "metadata": {
    "ExecuteTime": {
     "end_time": "2025-02-05T00:22:21.571772Z",
     "start_time": "2025-02-05T00:22:21.550429Z"
    }
   },
   "cell_type": "code",
   "source": [
    "phrase = \"Python Lesson 2\"\n",
    "print(len(phrase))\n",
    "print(phrase[-1])\n",
    "print(phrase[-2])\n",
    "print(phrase[-3])\n",
    "print(phrase.replace(\"Python\", \"Fortran\"))"
   ],
   "id": "51be311e307640f4",
   "outputs": [
    {
     "name": "stdout",
     "output_type": "stream",
     "text": [
      "15\n",
      "2\n",
      " \n",
      "n\n",
      "Fortran Lesson 2\n"
     ]
    }
   ],
   "execution_count": 9
  },
  {
   "metadata": {
    "ExecuteTime": {
     "end_time": "2025-02-05T01:09:01.396349Z",
     "start_time": "2025-02-05T01:08:52.973017Z"
    }
   },
   "cell_type": "code",
   "source": [
    "from math import *\n",
    "\n",
    "Choice = input(\"Input number a number between 1 to 3 (1: Cos, 2: Sin, 3: Tan): \")\n",
    "Value = int(input(\"Input a integer value you want to calculate: \"))\n",
    "\n",
    "if Choice == \"1\":\n",
    "    print(cos(Value))\n",
    "elif Choice == \"2\":\n",
    "    print(sin(Value))\n",
    "elif Choice == \"3\":\n",
    "    print(tan(Value))\n",
    "else:\n",
    "    print(\"Invalid input\")"
   ],
   "id": "20e42fcdb21a2dc4",
   "outputs": [
    {
     "name": "stdout",
     "output_type": "stream",
     "text": [
      "-0.5872139151569291\n"
     ]
    }
   ],
   "execution_count": 15
  }
 ],
 "metadata": {
  "kernelspec": {
   "display_name": "Python 3",
   "language": "python",
   "name": "python3"
  },
  "language_info": {
   "codemirror_mode": {
    "name": "ipython",
    "version": 2
   },
   "file_extension": ".py",
   "mimetype": "text/x-python",
   "name": "python",
   "nbconvert_exporter": "python",
   "pygments_lexer": "ipython2",
   "version": "2.7.6"
  }
 },
 "nbformat": 4,
 "nbformat_minor": 5
}
