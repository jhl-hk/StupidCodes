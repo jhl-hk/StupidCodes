{
 "cells": [
  {
   "cell_type": "code",
   "execution_count": null,
   "id": "initial_id",
   "metadata": {
    "collapsed": true
   },
   "outputs": [],
   "source": [
    "name = input(\"Write you name here: \")\n",
    "\n",
    "print(f\"Hello {name}!\")"
   ]
  },
  {
   "metadata": {},
   "cell_type": "code",
   "outputs": [],
   "execution_count": null,
   "source": [
    "name = input(\"Write you name here: \")\n",
    "age = input(\"Write you age here: \")\n",
    "occupation = input(\"Write you occupation here: \")\n",
    "\n",
    "print(f\"Hello {name}! You are {age} years old, and you are a {occupation}.\")"
   ],
   "id": "6f5207bb30664c7a"
  },
  {
   "metadata": {},
   "cell_type": "code",
   "outputs": [],
   "execution_count": null,
   "source": [
    "name = input(\"Write you name here: \")\n",
    "wakeUpTime = input(\"Write you wake up time here: \")\n",
    "cloths = input(\"Write you cloth time here: \")\n",
    "\n",
    "print(f\"\"\"\n",
    "    Today, {name} wake up on {wakeUpTime} a.m., and put on {cloths}. Then rushing to homeroom. During this time, \n",
    "\"\"\")"
   ],
   "id": "c64788cf930f086f"
  },
  {
   "metadata": {},
   "cell_type": "code",
   "outputs": [],
   "execution_count": null,
   "source": [
    "name_list = [1,2,3,\"one\",\"two\",\"three\",True,False]\n",
    "print(name_list)\n",
    "print(name_list[0])\n",
    "print(name_list[1:5])\n",
    "\n",
    "name_list[3] = \"Nacho\"\n",
    "print(name_list)"
   ],
   "id": "6ff0ced81ff98a61"
  },
  {
   "metadata": {},
   "cell_type": "code",
   "outputs": [],
   "execution_count": null,
   "source": "",
   "id": "24245cffd75a9f6d"
  }
 ],
 "metadata": {
  "kernelspec": {
   "display_name": "Python 3",
   "language": "python",
   "name": "python3"
  },
  "language_info": {
   "codemirror_mode": {
    "name": "ipython",
    "version": 2
   },
   "file_extension": ".py",
   "mimetype": "text/x-python",
   "name": "python",
   "nbconvert_exporter": "python",
   "pygments_lexer": "ipython2",
   "version": "2.7.6"
  }
 },
 "nbformat": 4,
 "nbformat_minor": 5
}
