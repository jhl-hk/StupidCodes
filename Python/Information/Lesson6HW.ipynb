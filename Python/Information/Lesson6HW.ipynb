{
 "cells": [
  {
   "cell_type": "code",
   "id": "initial_id",
   "metadata": {
    "collapsed": true,
    "ExecuteTime": {
     "end_time": "2025-03-12T01:29:20.317908Z",
     "start_time": "2025-03-12T01:29:20.304879Z"
    }
   },
   "source": [
    "# Task: create a program that will:\n",
    "# 1) open a file containing mathematical operation\n",
    "# 2) read the operations,\n",
    "# 3) compute the mathematical operations, and\n",
    "# 4) write the answers in a new file.\n",
    "# You have to account for potential errors in the operations given\n",
    "\n",
    "# 读取表达式并删除末尾等号\n",
    "with open(\"operations.txt\", \"r\") as file:\n",
    "    for line in file:\n",
    "        expression = line.strip()\n",
    "        if expression.endswith(\"=\"):\n",
    "            expression = expression[:-1]  # 移除末尾等号\n",
    "        \n",
    "        answer = open(\"answers.txt\", \"a+\")\n",
    "        \n",
    "        # 然后继续处理表达式\n",
    "        try:\n",
    "            result = eval(expression)\n",
    "            answer.write(f\"{expression}={result}\\n\")\n",
    "        except Exception as e:\n",
    "            answer.write(f'{expression}=\"Error: {str(e)}\"\\n')"
   ],
   "outputs": [],
   "execution_count": 21
  },
  {
   "metadata": {
    "ExecuteTime": {
     "end_time": "2025-03-12T01:13:54.013109Z",
     "start_time": "2025-03-12T01:13:54.009317Z"
    }
   },
   "cell_type": "code",
   "source": [
    "import random\n",
    "\n",
    "op_file = open(\"operations.txt\", \"w\")\n",
    "\n",
    "sign_list = [\"+\",\"-\",\"*\",\"/\"]\n",
    "\n",
    "for i in range(50):\n",
    "    x = []\n",
    "    for j in range(random.randrange(2,6)):\n",
    "        x.append(str(random.randrange(2,6)))\n",
    "        x.append(sign_list[random.randrange(0,4)])\n",
    "    x[-1] = \"=\"\n",
    "    x.append('\\n')\n",
    "    op_file.write(\"\".join(x))\n",
    "    \n",
    "op_file.close()"
   ],
   "id": "e9d1c3dd0b045f5b",
   "outputs": [],
   "execution_count": 4
  },
  {
   "metadata": {
    "ExecuteTime": {
     "end_time": "2025-03-12T01:14:20.497148Z",
     "start_time": "2025-03-12T01:14:20.487452Z"
    }
   },
   "cell_type": "code",
   "source": "print(\"1+2+4+5\")",
   "id": "2b35e8a5632c6cee",
   "outputs": [
    {
     "name": "stdout",
     "output_type": "stream",
     "text": [
      "1+2+4+5\n"
     ]
    }
   ],
   "execution_count": 6
  }
 ],
 "metadata": {
  "kernelspec": {
   "display_name": "Python 3",
   "language": "python",
   "name": "python3"
  },
  "language_info": {
   "codemirror_mode": {
    "name": "ipython",
    "version": 2
   },
   "file_extension": ".py",
   "mimetype": "text/x-python",
   "name": "python",
   "nbconvert_exporter": "python",
   "pygments_lexer": "ipython2",
   "version": "2.7.6"
  }
 },
 "nbformat": 4,
 "nbformat_minor": 5
}
