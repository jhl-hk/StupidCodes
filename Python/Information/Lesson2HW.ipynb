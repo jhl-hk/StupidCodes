{
 "cells": [
  {
   "cell_type": "code",
   "execution_count": null,
   "id": "initial_id",
   "metadata": {
    "collapsed": true
   },
   "outputs": [],
   "source": [
    "# a simple calculator for trignometry\n",
    "from math import *\n",
    "\n",
    "Choice = input(\"Input the trignometry that you want to calculate. (cos, sin, tan, acos, asin, atan): \")\n",
    "Value = int(input(\"Input a integer value you want to calculate: \"))\n",
    "\n",
    "if Choice.lower() == \"cos\":\n",
    "    print(cos(Value))\n",
    "elif Choice.lower() == \"sin\":\n",
    "    print(sin(Value))\n",
    "elif Choice.lower() == \"tan\":\n",
    "    print(tan(Value))\n",
    "elif Choice.lower() == \"acos\":\n",
    "    print(acos(Value))\n",
    "elif Choice.lower() == \"asin\":\n",
    "    print(asin(Value))\n",
    "elif Choice.lower() == \"atan\":\n",
    "    print(atan(Value))\n",
    "else:\n",
    "    print(\"Invalid input\")"
   ]
  },
  {
   "metadata": {
    "ExecuteTime": {
     "end_time": "2025-02-11T07:03:32.933528Z",
     "start_time": "2025-02-11T07:03:32.850260Z"
    }
   },
   "cell_type": "code",
   "source": "",
   "id": "9c309f214a4b13a5",
   "outputs": [
    {
     "ename": "TypeError",
     "evalue": "'int' object is not iterable",
     "output_type": "error",
     "traceback": [
      "\u001B[0;31m---------------------------------------------------------------------------\u001B[0m",
      "\u001B[0;31mTypeError\u001B[0m                                 Traceback (most recent call last)",
      "Cell \u001B[0;32mIn[2], line 4\u001B[0m\n\u001B[1;32m      2\u001B[0m p \u001B[38;5;241m=\u001B[39m \u001B[38;5;241m1\u001B[39m\n\u001B[1;32m      3\u001B[0m q \u001B[38;5;241m=\u001B[39m \u001B[38;5;241m1\u001B[39m\n\u001B[0;32m----> 4\u001B[0m \u001B[38;5;28mprint\u001B[39m(\u001B[43msumprod\u001B[49m\u001B[43m(\u001B[49m\u001B[43mp\u001B[49m\u001B[43m,\u001B[49m\u001B[43mq\u001B[49m\u001B[43m)\u001B[49m)\n",
      "\u001B[0;31mTypeError\u001B[0m: 'int' object is not iterable"
     ]
    }
   ],
   "execution_count": 2
  },
  {
   "metadata": {},
   "cell_type": "code",
   "outputs": [],
   "execution_count": null,
   "source": "",
   "id": "218dd802c95c2ce2"
  }
 ],
 "metadata": {
  "kernelspec": {
   "display_name": "Python 3",
   "language": "python",
   "name": "python3"
  },
  "language_info": {
   "codemirror_mode": {
    "name": "ipython",
    "version": 2
   },
   "file_extension": ".py",
   "mimetype": "text/x-python",
   "name": "python",
   "nbconvert_exporter": "python",
   "pygments_lexer": "ipython2",
   "version": "2.7.6"
  }
 },
 "nbformat": 4,
 "nbformat_minor": 5
}
