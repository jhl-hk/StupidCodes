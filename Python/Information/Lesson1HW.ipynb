{
 "cells": [
  {
   "metadata": {
    "ExecuteTime": {
     "end_time": "2025-01-08T01:17:08.304504Z",
     "start_time": "2025-01-08T01:17:08.301669Z"
    }
   },
   "cell_type": "code",
   "source": [
    "character = {\n",
    "    \"name\": \"Jianyue Hugo Liang\",\n",
    "    \"age\": 16,\n",
    "    \"grade\": \"Year 10\",\n",
    "    \"lan1\": \"Python\",\n",
    "    \"lan2\": \"HTML\",\n",
    "    \"lan3\": \"CSS\",\n",
    "    \"lan4\": \"JavaScript\",\n",
    "    \"lan5\": \"VUE\",\n",
    "    \"lan6\": \"NEXT.JS\",\n",
    "}\n",
    "\n",
    "print(f\"\"\"\n",
    "    There was a student in NIC who named {character[\"name\"]},\n",
    "    he is {character[\"age\"]} years old and current {character[\"grade\"]}. \n",
    "    He knows how to use {character[\"lan1\"]}, {character[\"lan2\"]} and {character[\"lan3\"]} intermediately.\n",
    "    Now he is leaning {character[\"lan4\"]} while practicing {character[\"lan5\"]} and {character[\"lan6\"]}. \n",
    "\"\"\")"
   ],
   "id": "edbec56667319f9f",
   "outputs": [
    {
     "name": "stdout",
     "output_type": "stream",
     "text": [
      "\n",
      "    There was a student in NIC who named Jianyue Hugo Liang,\n",
      "    he is 16 years old and current Year 10. \n",
      "    He knows how to use Python, HTML and CSS intermediately.\n",
      "    Now he is leaning JavaScript while practicing VUE and NEXT.JS. \n",
      "\n"
     ]
    }
   ],
   "execution_count": 1
  }
 ],
 "metadata": {
  "kernelspec": {
   "display_name": "Python 3",
   "language": "python",
   "name": "python3"
  },
  "language_info": {
   "codemirror_mode": {
    "name": "ipython",
    "version": 2
   },
   "file_extension": ".py",
   "mimetype": "text/x-python",
   "name": "python",
   "nbconvert_exporter": "python",
   "pygments_lexer": "ipython2",
   "version": "2.7.6"
  }
 },
 "nbformat": 4,
 "nbformat_minor": 5
}
