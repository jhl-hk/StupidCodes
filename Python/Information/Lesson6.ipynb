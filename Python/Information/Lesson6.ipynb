{
 "cells": [
  {
   "cell_type": "code",
   "id": "initial_id",
   "metadata": {
    "collapsed": true,
    "ExecuteTime": {
     "end_time": "2025-03-12T00:30:29.082870Z",
     "start_time": "2025-03-12T00:30:29.080075Z"
    }
   },
   "source": [
    "employees = open('./employees.txt', \"r\")\n",
    "print(employees.readline())"
   ],
   "outputs": [
    {
     "name": "stdout",
     "output_type": "stream",
     "text": [
      "Jim - Salesman\n",
      "\n"
     ]
    }
   ],
   "execution_count": 1
  },
  {
   "metadata": {
    "ExecuteTime": {
     "end_time": "2025-03-12T00:49:22.956660Z",
     "start_time": "2025-03-12T00:49:22.952755Z"
    }
   },
   "cell_type": "code",
   "source": [
    "employees = open('./employees.txt', \"a\")\n",
    "employees.write(\"Toby - HUman Resoucres\")"
   ],
   "id": "52f509864acf7d1b",
   "outputs": [
    {
     "data": {
      "text/plain": [
       "22"
      ]
     },
     "execution_count": 1,
     "metadata": {},
     "output_type": "execute_result"
    }
   ],
   "execution_count": 1
  }
 ],
 "metadata": {
  "kernelspec": {
   "display_name": "Python 3",
   "language": "python",
   "name": "python3"
  },
  "language_info": {
   "codemirror_mode": {
    "name": "ipython",
    "version": 2
   },
   "file_extension": ".py",
   "mimetype": "text/x-python",
   "name": "python",
   "nbconvert_exporter": "python",
   "pygments_lexer": "ipython2",
   "version": "2.7.6"
  }
 },
 "nbformat": 4,
 "nbformat_minor": 5
}
